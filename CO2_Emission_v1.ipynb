{
 "cells": [
  {
   "cell_type": "code",
   "execution_count": 1,
   "id": "62854989",
   "metadata": {},
   "outputs": [],
   "source": [
    "import pandas as pd\n",
    "import numpy  as np\n",
    "import numpy.ma as ma\n",
    "\n",
    "import matplotlib.pyplot as plt\n",
    "import matplotlib.colors as colors\n",
    "import matplotlib.cbook as cbook\n",
    "from matplotlib import cm"
   ]
  },
  {
   "cell_type": "code",
   "execution_count": 2,
   "id": "8f91563b",
   "metadata": {},
   "outputs": [],
   "source": [
    "co2_gdp = pd.read_csv('C:/Users/Pichau/Desktop/Python/Capstone/co2-emissions-vs-gdp.csv')\n",
    "co2_fuel = pd.read_csv('C:/Users/Pichau/Desktop/Python/Capstone/co2-emissions-by-fuel-line.csv')"
   ]
  },
  {
   "cell_type": "code",
   "execution_count": 3,
   "id": "ba52b83f",
   "metadata": {},
   "outputs": [
    {
     "data": {
      "text/html": [
       "<div>\n",
       "<style scoped>\n",
       "    .dataframe tbody tr th:only-of-type {\n",
       "        vertical-align: middle;\n",
       "    }\n",
       "\n",
       "    .dataframe tbody tr th {\n",
       "        vertical-align: top;\n",
       "    }\n",
       "\n",
       "    .dataframe thead th {\n",
       "        text-align: right;\n",
       "    }\n",
       "</style>\n",
       "<table border=\"1\" class=\"dataframe\">\n",
       "  <thead>\n",
       "    <tr style=\"text-align: right;\">\n",
       "      <th></th>\n",
       "      <th>Entity</th>\n",
       "      <th>Code</th>\n",
       "      <th>Year</th>\n",
       "      <th>Annual CO2 emissions (per capita)</th>\n",
       "      <th>GDP per capita</th>\n",
       "      <th>145446-annotations</th>\n",
       "      <th>Population (historical estimates)</th>\n",
       "      <th>Continent</th>\n",
       "    </tr>\n",
       "  </thead>\n",
       "  <tbody>\n",
       "    <tr>\n",
       "      <th>0</th>\n",
       "      <td>Abkhazia</td>\n",
       "      <td>OWID_ABK</td>\n",
       "      <td>2015</td>\n",
       "      <td>NaN</td>\n",
       "      <td>NaN</td>\n",
       "      <td>NaN</td>\n",
       "      <td>NaN</td>\n",
       "      <td>Asia</td>\n",
       "    </tr>\n",
       "    <tr>\n",
       "      <th>1</th>\n",
       "      <td>Afghanistan</td>\n",
       "      <td>AFG</td>\n",
       "      <td>1949</td>\n",
       "      <td>0.0019</td>\n",
       "      <td>NaN</td>\n",
       "      <td>NaN</td>\n",
       "      <td>7624058.0</td>\n",
       "      <td>NaN</td>\n",
       "    </tr>\n",
       "    <tr>\n",
       "      <th>2</th>\n",
       "      <td>Afghanistan</td>\n",
       "      <td>AFG</td>\n",
       "      <td>1950</td>\n",
       "      <td>0.0109</td>\n",
       "      <td>1156.0</td>\n",
       "      <td>NaN</td>\n",
       "      <td>7752117.0</td>\n",
       "      <td>NaN</td>\n",
       "    </tr>\n",
       "    <tr>\n",
       "      <th>3</th>\n",
       "      <td>Afghanistan</td>\n",
       "      <td>AFG</td>\n",
       "      <td>1951</td>\n",
       "      <td>0.0117</td>\n",
       "      <td>1170.0</td>\n",
       "      <td>NaN</td>\n",
       "      <td>7840151.0</td>\n",
       "      <td>NaN</td>\n",
       "    </tr>\n",
       "    <tr>\n",
       "      <th>4</th>\n",
       "      <td>Afghanistan</td>\n",
       "      <td>AFG</td>\n",
       "      <td>1952</td>\n",
       "      <td>0.0115</td>\n",
       "      <td>1189.0</td>\n",
       "      <td>NaN</td>\n",
       "      <td>7935996.0</td>\n",
       "      <td>NaN</td>\n",
       "    </tr>\n",
       "  </tbody>\n",
       "</table>\n",
       "</div>"
      ],
      "text/plain": [
       "        Entity      Code  Year  Annual CO2 emissions (per capita)  \\\n",
       "0     Abkhazia  OWID_ABK  2015                                NaN   \n",
       "1  Afghanistan       AFG  1949                             0.0019   \n",
       "2  Afghanistan       AFG  1950                             0.0109   \n",
       "3  Afghanistan       AFG  1951                             0.0117   \n",
       "4  Afghanistan       AFG  1952                             0.0115   \n",
       "\n",
       "   GDP per capita 145446-annotations  Population (historical estimates)  \\\n",
       "0             NaN                NaN                                NaN   \n",
       "1             NaN                NaN                          7624058.0   \n",
       "2          1156.0                NaN                          7752117.0   \n",
       "3          1170.0                NaN                          7840151.0   \n",
       "4          1189.0                NaN                          7935996.0   \n",
       "\n",
       "  Continent  \n",
       "0      Asia  \n",
       "1       NaN  \n",
       "2       NaN  \n",
       "3       NaN  \n",
       "4       NaN  "
      ]
     },
     "execution_count": 3,
     "metadata": {},
     "output_type": "execute_result"
    }
   ],
   "source": [
    "co2_gdp.head()"
   ]
  },
  {
   "cell_type": "code",
   "execution_count": 4,
   "id": "ea17233c",
   "metadata": {},
   "outputs": [
    {
     "data": {
      "text/html": [
       "<div>\n",
       "<style scoped>\n",
       "    .dataframe tbody tr th:only-of-type {\n",
       "        vertical-align: middle;\n",
       "    }\n",
       "\n",
       "    .dataframe tbody tr th {\n",
       "        vertical-align: top;\n",
       "    }\n",
       "\n",
       "    .dataframe thead th {\n",
       "        text-align: right;\n",
       "    }\n",
       "</style>\n",
       "<table border=\"1\" class=\"dataframe\">\n",
       "  <thead>\n",
       "    <tr style=\"text-align: right;\">\n",
       "      <th></th>\n",
       "      <th>Entity</th>\n",
       "      <th>Code</th>\n",
       "      <th>Year</th>\n",
       "      <th>Annual CO2 emissions from oil</th>\n",
       "      <th>Annual CO2 emissions from flaring</th>\n",
       "      <th>Annual CO2 emissions from cement</th>\n",
       "      <th>Annual CO2 emissions from coal</th>\n",
       "      <th>Annual CO2 emissions from gas</th>\n",
       "      <th>Annual CO2 emissions from other industry</th>\n",
       "    </tr>\n",
       "  </thead>\n",
       "  <tbody>\n",
       "    <tr>\n",
       "      <th>0</th>\n",
       "      <td>Afghanistan</td>\n",
       "      <td>AFG</td>\n",
       "      <td>1950</td>\n",
       "      <td>63204.0</td>\n",
       "      <td>NaN</td>\n",
       "      <td>NaN</td>\n",
       "      <td>21068.0</td>\n",
       "      <td>NaN</td>\n",
       "      <td>NaN</td>\n",
       "    </tr>\n",
       "    <tr>\n",
       "      <th>1</th>\n",
       "      <td>Afghanistan</td>\n",
       "      <td>AFG</td>\n",
       "      <td>1951</td>\n",
       "      <td>65952.0</td>\n",
       "      <td>NaN</td>\n",
       "      <td>NaN</td>\n",
       "      <td>25648.0</td>\n",
       "      <td>NaN</td>\n",
       "      <td>NaN</td>\n",
       "    </tr>\n",
       "    <tr>\n",
       "      <th>2</th>\n",
       "      <td>Afghanistan</td>\n",
       "      <td>AFG</td>\n",
       "      <td>1952</td>\n",
       "      <td>59892.0</td>\n",
       "      <td>NaN</td>\n",
       "      <td>NaN</td>\n",
       "      <td>31708.0</td>\n",
       "      <td>NaN</td>\n",
       "      <td>NaN</td>\n",
       "    </tr>\n",
       "    <tr>\n",
       "      <th>3</th>\n",
       "      <td>Afghanistan</td>\n",
       "      <td>AFG</td>\n",
       "      <td>1953</td>\n",
       "      <td>68307.0</td>\n",
       "      <td>NaN</td>\n",
       "      <td>NaN</td>\n",
       "      <td>37949.0</td>\n",
       "      <td>NaN</td>\n",
       "      <td>NaN</td>\n",
       "    </tr>\n",
       "    <tr>\n",
       "      <th>4</th>\n",
       "      <td>Afghanistan</td>\n",
       "      <td>AFG</td>\n",
       "      <td>1954</td>\n",
       "      <td>63754.0</td>\n",
       "      <td>NaN</td>\n",
       "      <td>NaN</td>\n",
       "      <td>42502.0</td>\n",
       "      <td>NaN</td>\n",
       "      <td>NaN</td>\n",
       "    </tr>\n",
       "  </tbody>\n",
       "</table>\n",
       "</div>"
      ],
      "text/plain": [
       "        Entity Code  Year  Annual CO2 emissions from oil  \\\n",
       "0  Afghanistan  AFG  1950                        63204.0   \n",
       "1  Afghanistan  AFG  1951                        65952.0   \n",
       "2  Afghanistan  AFG  1952                        59892.0   \n",
       "3  Afghanistan  AFG  1953                        68307.0   \n",
       "4  Afghanistan  AFG  1954                        63754.0   \n",
       "\n",
       "   Annual CO2 emissions from flaring  Annual CO2 emissions from cement  \\\n",
       "0                                NaN                               NaN   \n",
       "1                                NaN                               NaN   \n",
       "2                                NaN                               NaN   \n",
       "3                                NaN                               NaN   \n",
       "4                                NaN                               NaN   \n",
       "\n",
       "   Annual CO2 emissions from coal  Annual CO2 emissions from gas  \\\n",
       "0                         21068.0                            NaN   \n",
       "1                         25648.0                            NaN   \n",
       "2                         31708.0                            NaN   \n",
       "3                         37949.0                            NaN   \n",
       "4                         42502.0                            NaN   \n",
       "\n",
       "   Annual CO2 emissions from other industry  \n",
       "0                                       NaN  \n",
       "1                                       NaN  \n",
       "2                                       NaN  \n",
       "3                                       NaN  \n",
       "4                                       NaN  "
      ]
     },
     "execution_count": 4,
     "metadata": {},
     "output_type": "execute_result"
    }
   ],
   "source": [
    "co2_fuel.head()"
   ]
  },
  {
   "cell_type": "code",
   "execution_count": 5,
   "id": "b7e80b07",
   "metadata": {
    "scrolled": false
   },
   "outputs": [],
   "source": [
    "co2_gdp.drop(['145446-annotations', 'Code','Continent'], axis='columns', inplace= True)\n",
    "co2_fuel.drop('Code', axis = 1, inplace= True)"
   ]
  },
  {
   "cell_type": "code",
   "execution_count": 6,
   "id": "372c4a61",
   "metadata": {},
   "outputs": [],
   "source": [
    "co2_emission = pd.merge(co2_gdp,co2_fuel,on= [\"Entity\", \"Year\"], how=\"inner\")"
   ]
  },
  {
   "cell_type": "code",
   "execution_count": 7,
   "id": "2163c60e",
   "metadata": {},
   "outputs": [],
   "source": [
    "co2_emission.rename(columns ={'Entity': 'entidade', 'Year': 'ano', 'Annual CO2 emissions from oil': 'anual_oil',\n",
    "                             'Annual CO2 emissions from flaring': 'anual_flaring',\n",
    "                             'Annual CO2 emissions from cement': 'anual_cement',\n",
    "                             'Annual CO2 emissions from coal': 'anual_coal',\n",
    "                             'Annual CO2 emissions from gas': 'anual_gas',\n",
    "                             'Annual CO2 emissions from other industry': 'anual_outros',\n",
    "                             'Annual CO2 emissions (per capita)': 'emissão_percapita',\n",
    "                             'GDP per capita': 'gdp_percapita',\n",
    "                             'Population (historical estimates)': 'população_estimada'}, inplace= True)\n"
   ]
  },
  {
   "cell_type": "code",
   "execution_count": 8,
   "id": "e5dd65b2",
   "metadata": {},
   "outputs": [],
   "source": [
    "co2_emission.set_index(['entidade'], inplace=True, drop= True)"
   ]
  },
  {
   "cell_type": "code",
   "execution_count": 9,
   "id": "184ac6ac",
   "metadata": {
    "scrolled": true
   },
   "outputs": [],
   "source": [
    "co2_emission.drop(['Africa', 'Oceania', 'North America', 'South America',\n",
    "                  'Europe', 'EU-27', 'EU-28', 'World', 'Asia', 'Asia (excl. China & India)',\n",
    "                  'Europe (excl. EU-27)', 'Europe (excl. EU-28)', 'North America (excl. USA)',\n",
    "                  'Reunion' ], axis = 0, inplace = True)"
   ]
  },
  {
   "cell_type": "code",
   "execution_count": 10,
   "id": "2ea25ef1",
   "metadata": {},
   "outputs": [
    {
     "data": {
      "text/html": [
       "<div>\n",
       "<style scoped>\n",
       "    .dataframe tbody tr th:only-of-type {\n",
       "        vertical-align: middle;\n",
       "    }\n",
       "\n",
       "    .dataframe tbody tr th {\n",
       "        vertical-align: top;\n",
       "    }\n",
       "\n",
       "    .dataframe thead th {\n",
       "        text-align: right;\n",
       "    }\n",
       "</style>\n",
       "<table border=\"1\" class=\"dataframe\">\n",
       "  <thead>\n",
       "    <tr style=\"text-align: right;\">\n",
       "      <th></th>\n",
       "      <th>ano</th>\n",
       "      <th>emissão_percapita</th>\n",
       "      <th>gdp_percapita</th>\n",
       "      <th>população_estimada</th>\n",
       "      <th>anual_oil</th>\n",
       "      <th>anual_flaring</th>\n",
       "      <th>anual_cement</th>\n",
       "      <th>anual_coal</th>\n",
       "      <th>anual_gas</th>\n",
       "      <th>anual_outros</th>\n",
       "    </tr>\n",
       "  </thead>\n",
       "  <tbody>\n",
       "    <tr>\n",
       "      <th>ano</th>\n",
       "      <td>1.000000</td>\n",
       "      <td>0.097488</td>\n",
       "      <td>0.325940</td>\n",
       "      <td>0.052718</td>\n",
       "      <td>0.105225</td>\n",
       "      <td>-0.073864</td>\n",
       "      <td>0.101008</td>\n",
       "      <td>0.089682</td>\n",
       "      <td>0.141141</td>\n",
       "      <td>-0.015892</td>\n",
       "    </tr>\n",
       "    <tr>\n",
       "      <th>emissão_percapita</th>\n",
       "      <td>0.097488</td>\n",
       "      <td>1.000000</td>\n",
       "      <td>0.672679</td>\n",
       "      <td>-0.012881</td>\n",
       "      <td>0.075134</td>\n",
       "      <td>0.129458</td>\n",
       "      <td>0.051915</td>\n",
       "      <td>0.248361</td>\n",
       "      <td>0.190239</td>\n",
       "      <td>-0.062187</td>\n",
       "    </tr>\n",
       "    <tr>\n",
       "      <th>gdp_percapita</th>\n",
       "      <td>0.325940</td>\n",
       "      <td>0.672679</td>\n",
       "      <td>1.000000</td>\n",
       "      <td>-0.012442</td>\n",
       "      <td>0.267754</td>\n",
       "      <td>-0.003714</td>\n",
       "      <td>0.048515</td>\n",
       "      <td>0.123281</td>\n",
       "      <td>0.232004</td>\n",
       "      <td>-0.203899</td>\n",
       "    </tr>\n",
       "    <tr>\n",
       "      <th>população_estimada</th>\n",
       "      <td>0.052718</td>\n",
       "      <td>-0.012881</td>\n",
       "      <td>-0.012442</td>\n",
       "      <td>1.000000</td>\n",
       "      <td>0.412958</td>\n",
       "      <td>0.142091</td>\n",
       "      <td>0.640293</td>\n",
       "      <td>0.667644</td>\n",
       "      <td>0.250427</td>\n",
       "      <td>0.919064</td>\n",
       "    </tr>\n",
       "    <tr>\n",
       "      <th>anual_oil</th>\n",
       "      <td>0.105225</td>\n",
       "      <td>0.075134</td>\n",
       "      <td>0.267754</td>\n",
       "      <td>0.412958</td>\n",
       "      <td>1.000000</td>\n",
       "      <td>0.417069</td>\n",
       "      <td>0.406672</td>\n",
       "      <td>0.642983</td>\n",
       "      <td>0.893007</td>\n",
       "      <td>0.441389</td>\n",
       "    </tr>\n",
       "    <tr>\n",
       "      <th>anual_flaring</th>\n",
       "      <td>-0.073864</td>\n",
       "      <td>0.129458</td>\n",
       "      <td>-0.003714</td>\n",
       "      <td>0.142091</td>\n",
       "      <td>0.417069</td>\n",
       "      <td>1.000000</td>\n",
       "      <td>0.249813</td>\n",
       "      <td>0.398322</td>\n",
       "      <td>0.508734</td>\n",
       "      <td>0.629446</td>\n",
       "    </tr>\n",
       "    <tr>\n",
       "      <th>anual_cement</th>\n",
       "      <td>0.101008</td>\n",
       "      <td>0.051915</td>\n",
       "      <td>0.048515</td>\n",
       "      <td>0.640293</td>\n",
       "      <td>0.406672</td>\n",
       "      <td>0.249813</td>\n",
       "      <td>1.000000</td>\n",
       "      <td>0.889432</td>\n",
       "      <td>0.233823</td>\n",
       "      <td>0.927408</td>\n",
       "    </tr>\n",
       "    <tr>\n",
       "      <th>anual_coal</th>\n",
       "      <td>0.089682</td>\n",
       "      <td>0.248361</td>\n",
       "      <td>0.123281</td>\n",
       "      <td>0.667644</td>\n",
       "      <td>0.642983</td>\n",
       "      <td>0.398322</td>\n",
       "      <td>0.889432</td>\n",
       "      <td>1.000000</td>\n",
       "      <td>0.468245</td>\n",
       "      <td>0.919662</td>\n",
       "    </tr>\n",
       "    <tr>\n",
       "      <th>anual_gas</th>\n",
       "      <td>0.141141</td>\n",
       "      <td>0.190239</td>\n",
       "      <td>0.232004</td>\n",
       "      <td>0.250427</td>\n",
       "      <td>0.893007</td>\n",
       "      <td>0.508734</td>\n",
       "      <td>0.233823</td>\n",
       "      <td>0.468245</td>\n",
       "      <td>1.000000</td>\n",
       "      <td>0.295160</td>\n",
       "    </tr>\n",
       "    <tr>\n",
       "      <th>anual_outros</th>\n",
       "      <td>-0.015892</td>\n",
       "      <td>-0.062187</td>\n",
       "      <td>-0.203899</td>\n",
       "      <td>0.919064</td>\n",
       "      <td>0.441389</td>\n",
       "      <td>0.629446</td>\n",
       "      <td>0.927408</td>\n",
       "      <td>0.919662</td>\n",
       "      <td>0.295160</td>\n",
       "      <td>1.000000</td>\n",
       "    </tr>\n",
       "  </tbody>\n",
       "</table>\n",
       "</div>"
      ],
      "text/plain": [
       "                         ano  emissão_percapita  gdp_percapita  \\\n",
       "ano                 1.000000           0.097488       0.325940   \n",
       "emissão_percapita   0.097488           1.000000       0.672679   \n",
       "gdp_percapita       0.325940           0.672679       1.000000   \n",
       "população_estimada  0.052718          -0.012881      -0.012442   \n",
       "anual_oil           0.105225           0.075134       0.267754   \n",
       "anual_flaring      -0.073864           0.129458      -0.003714   \n",
       "anual_cement        0.101008           0.051915       0.048515   \n",
       "anual_coal          0.089682           0.248361       0.123281   \n",
       "anual_gas           0.141141           0.190239       0.232004   \n",
       "anual_outros       -0.015892          -0.062187      -0.203899   \n",
       "\n",
       "                    população_estimada  anual_oil  anual_flaring  \\\n",
       "ano                           0.052718   0.105225      -0.073864   \n",
       "emissão_percapita            -0.012881   0.075134       0.129458   \n",
       "gdp_percapita                -0.012442   0.267754      -0.003714   \n",
       "população_estimada            1.000000   0.412958       0.142091   \n",
       "anual_oil                     0.412958   1.000000       0.417069   \n",
       "anual_flaring                 0.142091   0.417069       1.000000   \n",
       "anual_cement                  0.640293   0.406672       0.249813   \n",
       "anual_coal                    0.667644   0.642983       0.398322   \n",
       "anual_gas                     0.250427   0.893007       0.508734   \n",
       "anual_outros                  0.919064   0.441389       0.629446   \n",
       "\n",
       "                    anual_cement  anual_coal  anual_gas  anual_outros  \n",
       "ano                     0.101008    0.089682   0.141141     -0.015892  \n",
       "emissão_percapita       0.051915    0.248361   0.190239     -0.062187  \n",
       "gdp_percapita           0.048515    0.123281   0.232004     -0.203899  \n",
       "população_estimada      0.640293    0.667644   0.250427      0.919064  \n",
       "anual_oil               0.406672    0.642983   0.893007      0.441389  \n",
       "anual_flaring           0.249813    0.398322   0.508734      0.629446  \n",
       "anual_cement            1.000000    0.889432   0.233823      0.927408  \n",
       "anual_coal              0.889432    1.000000   0.468245      0.919662  \n",
       "anual_gas               0.233823    0.468245   1.000000      0.295160  \n",
       "anual_outros            0.927408    0.919662   0.295160      1.000000  "
      ]
     },
     "execution_count": 10,
     "metadata": {},
     "output_type": "execute_result"
    }
   ],
   "source": [
    "co2_emission.corr()"
   ]
  },
  {
   "cell_type": "code",
   "execution_count": 11,
   "id": "2c1a2929",
   "metadata": {},
   "outputs": [],
   "source": [
    "#plt.plot(co2_emission['ano'].loc['Brazil'], co2_emission['emissão_percapita'].loc['Brazil'])\n",
    "#plt.plot(co2_emission['ano'].loc['Brazil'], co2_emission['gdp_percapita'].loc['Brazil'], label = 'Brasil')"
   ]
  },
  {
   "cell_type": "code",
   "execution_count": 12,
   "id": "a8485949",
   "metadata": {},
   "outputs": [
    {
     "data": {
      "text/plain": [
       "<matplotlib.legend.Legend at 0x17218e90be0>"
      ]
     },
     "execution_count": 12,
     "metadata": {},
     "output_type": "execute_result"
    },
    {
     "data": {
      "image/png": "[encoded data removed]",
      "text/plain": [
       "<Figure size 720x388.8 with 1 Axes>"
      ]
     },
     "metadata": {
      "needs_background": "light"
     },
     "output_type": "display_data"
    }
   ],
   "source": [
    "fig, ax = plt.subplots(figsize=(10,5.4))\n",
    "ax.bar(co2_emission['ano'].loc['Brazil'], co2_emission['anual_cement'].loc['Brazil'], label ='Cimento' )\n",
    "ax.scatter(co2_emission['ano'].loc['Brazil'], co2_emission['anual_gas'].loc['Brazil'], label ='Gas')\n",
    "ax.plot(co2_emission['ano'].loc['Brazil'], co2_emission['anual_coal'].loc['Brazil'], label ='Carvão')\n",
    "ax.plot(co2_emission['ano'].loc['Brazil'], co2_emission['anual_oil'].loc['Brazil'], label ='Petróleo')\n",
    "ax.set_xlabel('Ano')\n",
    "ax.set_ylabel('Emissão')\n",
    "ax.set_title('Emissão anual de CO2 por ano no Brasil, por tipo de emissão')\n",
    "ax.legend()"
   ]
  },
  {
   "cell_type": "code",
   "execution_count": 13,
   "id": "4aa52e18",
   "metadata": {},
   "outputs": [],
   "source": [
    "X = (co2_emission['ano']).fillna(0)\n",
    "Y = (co2_emission['gdp_percapita']).fillna(0)\n",
    "Z = (co2_emission['emissão_percapita']).fillna(0)"
   ]
  },
  {
   "cell_type": "code",
   "execution_count": 14,
   "id": "3ee03411",
   "metadata": {},
   "outputs": [
    {
     "data": {
      "text/plain": [
       "<matplotlib.collections.PathCollection at 0x172196a8fa0>"
      ]
     },
     "execution_count": 14,
     "metadata": {},
     "output_type": "execute_result"
    },
    {
     "data": {
      "image/png": "[encoded data removed]",
      "text/plain": [
       "<Figure size 720x388.8 with 1 Axes>"
      ]
     },
     "metadata": {
      "needs_background": "light"
     },
     "output_type": "display_data"
    }
   ],
   "source": [
    "fig, asx = plt.subplots(figsize=(10,5.4))\n",
    "asx.scatter(X, Y, c= Z, cmap='viridis')\n",
    "\n"
   ]
  },
  {
   "cell_type": "code",
   "execution_count": 15,
   "id": "a772371d",
   "metadata": {},
   "outputs": [
    {
     "data": {
      "text/html": [
       "<div>\n",
       "<style scoped>\n",
       "    .dataframe tbody tr th:only-of-type {\n",
       "        vertical-align: middle;\n",
       "    }\n",
       "\n",
       "    .dataframe tbody tr th {\n",
       "        vertical-align: top;\n",
       "    }\n",
       "\n",
       "    .dataframe thead th {\n",
       "        text-align: right;\n",
       "    }\n",
       "</style>\n",
       "<table border=\"1\" class=\"dataframe\">\n",
       "  <thead>\n",
       "    <tr style=\"text-align: right;\">\n",
       "      <th></th>\n",
       "      <th>ano</th>\n",
       "      <th>emissão_percapita</th>\n",
       "      <th>gdp_percapita</th>\n",
       "      <th>população_estimada</th>\n",
       "      <th>anual_oil</th>\n",
       "      <th>anual_flaring</th>\n",
       "      <th>anual_cement</th>\n",
       "      <th>anual_coal</th>\n",
       "      <th>anual_gas</th>\n",
       "      <th>anual_outros</th>\n",
       "    </tr>\n",
       "  </thead>\n",
       "  <tbody>\n",
       "    <tr>\n",
       "      <th>count</th>\n",
       "      <td>20798.000000</td>\n",
       "      <td>20703.000000</td>\n",
       "      <td>13749.000000</td>\n",
       "      <td>2.075200e+04</td>\n",
       "      <td>1.819100e+04</td>\n",
       "      <td>3.576000e+03</td>\n",
       "      <td>1.085200e+04</td>\n",
       "      <td>1.434700e+04</td>\n",
       "      <td>7.438000e+03</td>\n",
       "      <td>1.511000e+03</td>\n",
       "    </tr>\n",
       "    <tr>\n",
       "      <th>mean</th>\n",
       "      <td>1960.816377</td>\n",
       "      <td>4.265358</td>\n",
       "      <td>8546.202944</td>\n",
       "      <td>2.295038e+07</td>\n",
       "      <td>3.021869e+07</td>\n",
       "      <td>4.968101e+06</td>\n",
       "      <td>3.977056e+06</td>\n",
       "      <td>5.494133e+07</td>\n",
       "      <td>3.297013e+07</td>\n",
       "      <td>6.190042e+06</td>\n",
       "    </tr>\n",
       "    <tr>\n",
       "      <th>std</th>\n",
       "      <td>46.323954</td>\n",
       "      <td>15.764054</td>\n",
       "      <td>11432.078671</td>\n",
       "      <td>8.997843e+07</td>\n",
       "      <td>1.481827e+08</td>\n",
       "      <td>9.662321e+06</td>\n",
       "      <td>2.846954e+07</td>\n",
       "      <td>2.899478e+08</td>\n",
       "      <td>1.219842e+08</td>\n",
       "      <td>1.826947e+07</td>\n",
       "    </tr>\n",
       "    <tr>\n",
       "      <th>min</th>\n",
       "      <td>1750.000000</td>\n",
       "      <td>0.000100</td>\n",
       "      <td>295.000000</td>\n",
       "      <td>1.490000e+03</td>\n",
       "      <td>3.600000e+01</td>\n",
       "      <td>4.000000e+00</td>\n",
       "      <td>1.710000e+02</td>\n",
       "      <td>5.000000e+00</td>\n",
       "      <td>1.100000e+01</td>\n",
       "      <td>4.600000e+01</td>\n",
       "    </tr>\n",
       "    <tr>\n",
       "      <th>25%</th>\n",
       "      <td>1937.000000</td>\n",
       "      <td>0.234000</td>\n",
       "      <td>1949.000000</td>\n",
       "      <td>1.208612e+06</td>\n",
       "      <td>2.784640e+05</td>\n",
       "      <td>1.650398e+05</td>\n",
       "      <td>1.126630e+05</td>\n",
       "      <td>2.125120e+05</td>\n",
       "      <td>2.601440e+05</td>\n",
       "      <td>5.074570e+05</td>\n",
       "    </tr>\n",
       "    <tr>\n",
       "      <th>50%</th>\n",
       "      <td>1971.000000</td>\n",
       "      <td>1.165000</td>\n",
       "      <td>4339.000000</td>\n",
       "      <td>4.592474e+06</td>\n",
       "      <td>1.755056e+06</td>\n",
       "      <td>1.143285e+06</td>\n",
       "      <td>4.494920e+05</td>\n",
       "      <td>2.293945e+06</td>\n",
       "      <td>2.806160e+06</td>\n",
       "      <td>1.255637e+06</td>\n",
       "    </tr>\n",
       "    <tr>\n",
       "      <th>75%</th>\n",
       "      <td>1996.750000</td>\n",
       "      <td>4.657200</td>\n",
       "      <td>9966.000000</td>\n",
       "      <td>1.418572e+07</td>\n",
       "      <td>1.096745e+07</td>\n",
       "      <td>4.592083e+06</td>\n",
       "      <td>1.860688e+06</td>\n",
       "      <td>1.563140e+07</td>\n",
       "      <td>1.753042e+07</td>\n",
       "      <td>4.262244e+06</td>\n",
       "    </tr>\n",
       "    <tr>\n",
       "      <th>max</th>\n",
       "      <td>2020.000000</td>\n",
       "      <td>748.639300</td>\n",
       "      <td>156299.000000</td>\n",
       "      <td>1.439324e+09</td>\n",
       "      <td>2.608477e+09</td>\n",
       "      <td>8.450972e+07</td>\n",
       "      <td>8.582326e+08</td>\n",
       "      <td>7.493454e+09</td>\n",
       "      <td>1.694894e+09</td>\n",
       "      <td>1.772568e+08</td>\n",
       "    </tr>\n",
       "  </tbody>\n",
       "</table>\n",
       "</div>"
      ],
      "text/plain": [
       "                ano  emissão_percapita  gdp_percapita  população_estimada  \\\n",
       "count  20798.000000       20703.000000   13749.000000        2.075200e+04   \n",
       "mean    1960.816377           4.265358    8546.202944        2.295038e+07   \n",
       "std       46.323954          15.764054   11432.078671        8.997843e+07   \n",
       "min     1750.000000           0.000100     295.000000        1.490000e+03   \n",
       "25%     1937.000000           0.234000    1949.000000        1.208612e+06   \n",
       "50%     1971.000000           1.165000    4339.000000        4.592474e+06   \n",
       "75%     1996.750000           4.657200    9966.000000        1.418572e+07   \n",
       "max     2020.000000         748.639300  156299.000000        1.439324e+09   \n",
       "\n",
       "          anual_oil  anual_flaring  anual_cement    anual_coal     anual_gas  \\\n",
       "count  1.819100e+04   3.576000e+03  1.085200e+04  1.434700e+04  7.438000e+03   \n",
       "mean   3.021869e+07   4.968101e+06  3.977056e+06  5.494133e+07  3.297013e+07   \n",
       "std    1.481827e+08   9.662321e+06  2.846954e+07  2.899478e+08  1.219842e+08   \n",
       "min    3.600000e+01   4.000000e+00  1.710000e+02  5.000000e+00  1.100000e+01   \n",
       "25%    2.784640e+05   1.650398e+05  1.126630e+05  2.125120e+05  2.601440e+05   \n",
       "50%    1.755056e+06   1.143285e+06  4.494920e+05  2.293945e+06  2.806160e+06   \n",
       "75%    1.096745e+07   4.592083e+06  1.860688e+06  1.563140e+07  1.753042e+07   \n",
       "max    2.608477e+09   8.450972e+07  8.582326e+08  7.493454e+09  1.694894e+09   \n",
       "\n",
       "       anual_outros  \n",
       "count  1.511000e+03  \n",
       "mean   6.190042e+06  \n",
       "std    1.826947e+07  \n",
       "min    4.600000e+01  \n",
       "25%    5.074570e+05  \n",
       "50%    1.255637e+06  \n",
       "75%    4.262244e+06  \n",
       "max    1.772568e+08  "
      ]
     },
     "execution_count": 15,
     "metadata": {},
     "output_type": "execute_result"
    }
   ],
   "source": [
    "co2_emission.describe()"
   ]
  },
  {
   "cell_type": "code",
   "execution_count": 16,
   "id": "00550f93",
   "metadata": {},
   "outputs": [],
   "source": [
    "co2_emission_2018 = co2_emission.loc[co2_emission['ano'] == 2018]"
   ]
  },
  {
   "cell_type": "code",
   "execution_count": 17,
   "id": "16cc4e8c",
   "metadata": {},
   "outputs": [
    {
     "data": {
      "text/plain": [
       "<AxesSubplot:xlabel='entidade'>"
      ]
     },
     "execution_count": 17,
     "metadata": {},
     "output_type": "execute_result"
    },
    {
     "data": {
      "image/png": "[encoded data removed]",
      "text/plain": [
       "<Figure size 432x288 with 1 Axes>"
      ]
     },
     "metadata": {
      "needs_background": "light"
     },
     "output_type": "display_data"
    }
   ],
   "source": [
    "co2_emission_2018.nlargest(10, 'população_estimada').plot(y='anual_cement', use_index=True, kind = 'bar')"
   ]
  },
  {
   "cell_type": "code",
   "execution_count": 18,
   "id": "0d96eae3",
   "metadata": {},
   "outputs": [
    {
     "data": {
      "text/plain": [
       "<matplotlib.legend.Legend at 0x172198daf70>"
      ]
     },
     "execution_count": 18,
     "metadata": {},
     "output_type": "execute_result"
    },
    {
     "data": {
      "image/png": "[encoded data removed]",
      "text/plain": [
       "<Figure size 720x576 with 1 Axes>"
      ]
     },
     "metadata": {
      "needs_background": "light"
     },
     "output_type": "display_data"
    }
   ],
   "source": [
    "fig, axy = plt.subplots( figsize=(10,8))\n",
    "fig.autofmt_xdate(rotation=45)\n",
    "axy.bar(co2_emission_2018.nlargest(10, 'população_estimada').index, co2_emission_2018.nlargest(10, 'população_estimada')['anual_cement'], label = 'Cimento')\n",
    "axy.bar(co2_emission_2018.nlargest(10, 'população_estimada').index, co2_emission_2018.nlargest(10, 'população_estimada')['anual_oil'], \n",
    "        bottom = co2_emission_2018.nlargest(10, 'população_estimada')['anual_cement'], label = 'Oil' )\n",
    "\n",
    "axy.set_ylabel(r\"Emissão de $CO^2$ ton/$m^3$ \")\n",
    "\n",
    "axy.legend()"
   ]
  },
  {
   "cell_type": "code",
   "execution_count": 19,
   "id": "b794da88",
   "metadata": {},
   "outputs": [
    {
     "name": "stderr",
     "output_type": "stream",
     "text": [
      "<ipython-input-19-9f67bc3aeb01>:3: SettingWithCopyWarning: \n",
      "A value is trying to be set on a copy of a slice from a DataFrame.\n",
      "Try using .loc[row_indexer,col_indexer] = value instead\n",
      "\n",
      "See the caveats in the documentation: https://pandas.pydata.org/pandas-docs/stable/user_guide/indexing.html#returning-a-view-versus-a-copy\n",
      "  co2_emission_2018['gdp'] =  co2_emission_2018['gdp_percapita'] * co2_emission_2018['população_estimada']\n"
     ]
    }
   ],
   "source": [
    "tag1 = co2_emission_2018.nlargest(10, 'população_estimada').index # Maiores Populações\n",
    "tag2 = co2_emission_2018.nlargest(10, 'gdp_percapita').index # Maiores GDPs per capita\n",
    "co2_emission_2018['gdp'] =  co2_emission_2018['gdp_percapita'] * co2_emission_2018['população_estimada']\n",
    "tag3 = co2_emission_2018.nlargest(10, 'gdp').index # Maiores GDPs"
   ]
  },
  {
   "cell_type": "code",
   "execution_count": 20,
   "id": "dc706f65",
   "metadata": {},
   "outputs": [
    {
     "data": {
      "text/plain": [
       "<matplotlib.legend.Legend at 0x1721ad39040>"
      ]
     },
     "execution_count": 20,
     "metadata": {},
     "output_type": "execute_result"
    },
    {
     "data": {
      "image/png": "[encoded data removed]",
      "text/plain": [
       "<Figure size 720x576 with 1 Axes>"
      ]
     },
     "metadata": {
      "needs_background": "light"
     },
     "output_type": "display_data"
    }
   ],
   "source": [
    "x = np.arange(len(tag1))\n",
    "width =0.5\n",
    "fig, axw = plt.subplots( figsize=(10,8))\n",
    "fig.autofmt_xdate(rotation=45)\n",
    "r2 = axw.bar( x + width/2, co2_emission_2018.nlargest(10, 'população_estimada')['anual_coal'], width, label = 'Carvão')\n",
    "r4 = axw.bar( x - width/2 , co2_emission_2018.nlargest(10, 'população_estimada')['anual_oil'], width, label = 'Petróleo')\n",
    "axw.set_ylabel(r\"Emissão de $CO^2$ ton/$m^3$ \")\n",
    "axw.set_xlim(-0.5, 9.5)\n",
    "axw.set_xticks(x)\n",
    "axw.set_xticklabels(tag1)\n",
    "axw.legend()\n",
    "\n"
   ]
  },
  {
   "cell_type": "code",
   "execution_count": 21,
   "id": "7e72c101",
   "metadata": {},
   "outputs": [
    {
     "data": {
      "text/plain": [
       "<matplotlib.legend.Legend at 0x1721b0c5c40>"
      ]
     },
     "execution_count": 21,
     "metadata": {},
     "output_type": "execute_result"
    },
    {
     "data": {
      "image/png": "[encoded data removed]",
      "text/plain": [
       "<Figure size 720x576 with 1 Axes>"
      ]
     },
     "metadata": {
      "needs_background": "light"
     },
     "output_type": "display_data"
    }
   ],
   "source": [
    "x = np.arange(len(tag2))\n",
    "width =0.5\n",
    "fig, axw = plt.subplots( figsize=(10,8))\n",
    "fig.autofmt_xdate(rotation=45)\n",
    "r2 = axw.bar( x + width/2, co2_emission_2018.nlargest(10, 'população_estimada')['anual_coal'], width, label = 'Carvão')\n",
    "r4 = axw.bar( x - width/2 , co2_emission_2018.nlargest(10, 'população_estimada')['anual_oil'], width, label = 'Petróleo')\n",
    "axw.set_ylabel(r\"Emissão de $CO^2$ ton/$m^3$ \")\n",
    "axw.set_xlim(-0.5, 9.5)\n",
    "axw.set_xticks(x)\n",
    "axw.set_xticklabels(tag2)\n",
    "axw.legend()"
   ]
  },
  {
   "cell_type": "code",
   "execution_count": 22,
   "id": "8bfbaa7f",
   "metadata": {},
   "outputs": [
    {
     "data": {
      "text/plain": [
       "<matplotlib.legend.Legend at 0x1721b464820>"
      ]
     },
     "execution_count": 22,
     "metadata": {},
     "output_type": "execute_result"
    },
    {
     "data": {
      "image/png": "[encoded data removed]",
      "text/plain": [
       "<Figure size 720x576 with 1 Axes>"
      ]
     },
     "metadata": {
      "needs_background": "light"
     },
     "output_type": "display_data"
    }
   ],
   "source": [
    "x = np.arange(len(tag3))\n",
    "width =0.5\n",
    "fig, axw = plt.subplots( figsize=(10,8))\n",
    "fig.autofmt_xdate(rotation=45)\n",
    "r2 = axw.bar( x + width/2, co2_emission_2018.nlargest(10, 'população_estimada')['anual_coal'], width, label = 'Carvão')\n",
    "r4 = axw.bar( x - width/2 , co2_emission_2018.nlargest(10, 'população_estimada')['anual_oil'], width, label = 'Petróleo')\n",
    "axw.set_ylabel(r\"Emissão de $CO^2$ ton/$m^3$ \")\n",
    "axw.set_xlim(-0.5, 9.5)\n",
    "axw.set_xticks(x)\n",
    "axw.set_xticklabels(tag3)\n",
    "axw.legend()"
   ]
  },
  {
   "cell_type": "code",
   "execution_count": 23,
   "id": "ae0672e0",
   "metadata": {},
   "outputs": [],
   "source": []
  },
  {
   "cell_type": "code",
   "execution_count": null,
   "id": "f2387340",
   "metadata": {},
   "outputs": [],
   "source": []
  },
  {
   "cell_type": "code",
   "execution_count": null,
   "id": "e68f311b",
   "metadata": {},
   "outputs": [],
   "source": []
  }
 ],
 "metadata": {
  "kernelspec": {
   "display_name": "Python 3",
   "language": "python",
   "name": "python3"
  },
  "language_info": {
   "codemirror_mode": {
    "name": "ipython",
    "version": 3
   },
   "file_extension": ".py",
   "mimetype": "text/x-python",
   "name": "python",
   "nbconvert_exporter": "python",
   "pygments_lexer": "ipython3",
   "version": "3.8.8"
  }
 },
 "nbformat": 4,
 "nbformat_minor": 5
}
